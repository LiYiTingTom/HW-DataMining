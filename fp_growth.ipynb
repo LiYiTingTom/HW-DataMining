{
 "cells": [
  {
   "cell_type": "code",
   "execution_count": 31,
   "metadata": {},
   "outputs": [
    {
     "data": {
      "text/plain": [
       "[['z', 'r'],\n",
       " ['z', 'x', 'y', 't', 's'],\n",
       " ['z'],\n",
       " ['x', 'r', 's'],\n",
       " ['z', 'x', 'y', 'r', 't'],\n",
       " ['z', 'x', 'y', 't', 's']]"
      ]
     },
     "execution_count": 31,
     "metadata": {},
     "output_type": "execute_result"
    }
   ],
   "source": [
    "from __future__ import annotations\n",
    "import re\n",
    "from dataclasses import dataclass, field\n",
    "from typing import TypeVar, Dict, Set, Optional, Tuple, FrozenSet\n",
    "from collections import defaultdict\n",
    "from copy import deepcopy\n",
    "from config import DATASET, PARAMS, DISPLAY\n",
    "from utils import *\n",
    "\n",
    "\n",
    "# Define some type.\n",
    "Item                        = TypeVar(int)\n",
    "ItemSet                     = TypeVar(FrozenSet[Item])\n",
    "ItemSets                    = TypeVar(List[ItemSet])\n",
    "TID                         = TypeVar(int)\n",
    "\n",
    "ori_isets: ItemSets                 = set()\n",
    "transactions: List[ItemSet]         = list()\n",
    "t_dict: Dict[TID, transactions]     = dict()\n",
    "item_counter: Dict[ItemSet, int]    = dict()\n",
    "cond_pattern: ItemSets              = set()\n",
    "\n",
    "DISPLAY = False\n",
    "\n",
    "# Get data\n",
    "ori_isets, transactions, item_counter = get_data(DATASET)\n",
    "\n",
    "\n",
    "def filter_data(\n",
    "    item_counter: Dict[ItemSet] = item_counter,\n",
    "    min_freq: float = PARAMS.min_freq):\n",
    "    r\"\"\"Filter out frequence > min_frequence itemsets.\"\"\"\n",
    "    return filter(lambda i: i[1] >= min_freq, item_counter.items())\n",
    "\n",
    "\n",
    "def get_dropout_itemset(\n",
    "    ori_isets: ItemSets,\n",
    "    filtered_isets: ItemSets):\n",
    "    r\"\"\"Get the droped out itemsets.\"\"\"\n",
    "    diff = ori_isets - {frozenset(itemset[0]) for itemset in filtered_isets}\n",
    "    if diff:\n",
    "        return frozenset.union(*diff)\n",
    "    return frozenset({})\n",
    "\n",
    "\n",
    "DISPLAY = False\n",
    "def filter_order_transactions(transactions: list, drop_out_isets: FrozenSet, item_counter: Dict[ItemSet, int]):\n",
    "    r\"\"\"Filter and Order the transactions.\"\"\"\n",
    "    result: List[ItemSets] = list()\n",
    "\n",
    "    for k, v in enumerate(transactions):\n",
    "        if DISPLAY: print(f\"{k} before drop out:\\n\\t{list(deepcopy(v))}\")\n",
    "        droped_out = list(filter(lambda x: x not in drop_out_isets, v))\n",
    "        if DISPLAY: print(f\"{k} after drop out:\\n\\t{list(deepcopy(droped_out))}\")\n",
    "        ordered = sorted(droped_out, key=lambda i: item_counter[i], reverse=True)\n",
    "        if DISPLAY: print(f\"{k} after ordered:\\n\\t{list(deepcopy(ordered))}\\n\", '='*100)\n",
    "        result.append(ordered)\n",
    "    return result\n",
    "\n",
    "# Filter out frequence > min_frequence itemsets.\n",
    "filtered_isets = filter_data(item_counter, PARAMS.min_freq)\n",
    "# Get dropout isets.\n",
    "drop_out_isets = get_dropout_itemset(ori_isets, filtered_isets)\n",
    "# Deal up with transactions.\n",
    "transactions = filter_order_transactions(transactions, drop_out_isets, item_counter)\n",
    "# format the transactions.\n",
    "transactions = {frozenset(set(trans)): 1 for trans in transactions}\n",
    "transactions"
   ]
  },
  {
   "cell_type": "code",
   "execution_count": 32,
   "metadata": {},
   "outputs": [
    {
     "name": "stdout",
     "output_type": "stream",
     "text": [
      "<-: 1>\n",
      "  <z: 5>\n",
      "    <r: 1>\n",
      "    <x: 3>\n",
      "      <y: 3>\n",
      "        <t: 2>\n",
      "          <s: 2>\n",
      "        <r: 1>\n",
      "          <t: 1>\n",
      "  <x: 1>\n",
      "    <r: 1>\n",
      "      <s: 1>\n"
     ]
    }
   ],
   "source": [
    "\n",
    "\n",
    "# ans = list()\n",
    "# ans.extend(Tree.node_dict.keys())\n",
    "# cond_pattern_bases\n",
    "\n",
    "fp_tree = Tree.build_FPtree(transactions)\n",
    "cond_pattern_bases = Tree.get_cond_pattern_base()\n",
    "fp_tree.show()\n"
   ]
  },
  {
   "cell_type": "code",
   "execution_count": 34,
   "metadata": {},
   "outputs": [],
   "source": [
    "cond_pbs = cond_pattern_bases['r']\n",
    "# cond_pbs = map(cond_pattern_base_counter, cond_pattern_bases.values())\n",
    "\n",
    "def cond_pattern_base_counter(cond_pbs=cond_pbs):\n",
    "    r\"\"\"Conditional pattern base item counter.\n",
    "    \n",
    "    Return\n",
    "    ======\n",
    "    counter\n",
    "        The mapping of each itemset to it's count.\n",
    "    \"\"\"\n",
    "    item_map = defaultdict(int)\n",
    "    for cond_pb, count in cond_pbs.items():\n",
    "        for item in cond_pb:\n",
    "            item_map[frozenset(item)] += count\n",
    "    return item_map\n",
    "\n",
    "def mineTree(cond_pattern_bases=cond_pattern_bases):\n",
    "    for k, cond_pbs in cond_pattern_bases.items():\n",
    "        # print(k, cond_pbs)\n",
    "        transactions = cond_pbs.keys()\n",
    "        # print(f'transactions: {list(transactions)}\\n')\n",
    "\n",
    "        item_counter = cond_pattern_base_counter(cond_pbs)\n",
    "        # print(f'item_counter: {dict(item_counter)}\\n')\n",
    "\n",
    "        filtered_isets = filter_data(item_counter)\n",
    "        # print(f'filtered_isets: {list(deepcopy(filtered_isets))}\\n')\n",
    "\n",
    "        drop_out_isets = get_dropout_itemset(item_counter.keys(), filtered_isets)\n",
    "        # print(f'drop_out_isets: {drop_out_isets}\\n')\n",
    "\n",
    "        transactions = filter_order_transactions(transactions, drop_out_isets, item_counter)\n",
    "\n",
    "        insert_ans(k, deepcopy(transactions))\n",
    "\n",
    "        fp_tree = Tree.build_FPtree(transactions)\n",
    "\n",
    "        cond_pattern_bases = Tree.get_cond_pattern_base()\n",
    "\n",
    "        Tree.cls_truncate()\n",
    "\n",
    "        mineTree(cond_pattern_bases)\n",
    "\n",
    "        # print(f'cond_pattern_base: {dict(cond_pattern_base)}\\n', '='*50, '\\n')\n",
    "\n",
    "mineTree(cond_pattern_bases)\n"
   ]
  },
  {
   "cell_type": "code",
   "execution_count": 35,
   "metadata": {},
   "outputs": [
    {
     "data": {
      "text/plain": [
       "{frozenset({'z'}),\n",
       " frozenset({'y'}),\n",
       " frozenset({'x', 'y', 'z'}),\n",
       " frozenset({'s', 'x'}),\n",
       " frozenset({'r'}),\n",
       " frozenset({'x', 'z'}),\n",
       " frozenset({'t', 'x', 'y', 'z'})}"
      ]
     },
     "execution_count": 35,
     "metadata": {},
     "output_type": "execute_result"
    }
   ],
   "source": [
    "ans"
   ]
  }
 ],
 "metadata": {
  "interpreter": {
   "hash": "916dbcbb3f70747c44a77c7bcd40155683ae19c65e1c03b4aa3499c5328201f1"
  },
  "kernelspec": {
   "display_name": "Python 3.8.10 64-bit",
   "name": "python3"
  },
  "language_info": {
   "codemirror_mode": {
    "name": "ipython",
    "version": 3
   },
   "file_extension": ".py",
   "mimetype": "text/x-python",
   "name": "python",
   "nbconvert_exporter": "python",
   "pygments_lexer": "ipython3",
   "version": "3.8.10"
  },
  "orig_nbformat": 4
 },
 "nbformat": 4,
 "nbformat_minor": 2
}
