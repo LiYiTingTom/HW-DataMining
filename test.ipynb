{
 "cells": [
  {
   "cell_type": "code",
   "execution_count": 3,
   "metadata": {},
   "outputs": [
    {
     "name": "stdout",
     "output_type": "stream",
     "text": [
      "droped out itemsets: {None, 'o', 'p', 'j', 'u', 'h', 'm', 'v', 'w', 'n', 'e', 'q'}\n",
      "\n"
     ]
    },
    {
     "data": {
      "text/plain": [
       "{frozenset({'r', 'z'}): 1,\n",
       " frozenset({'s', 't', 'x', 'y', 'z'}): 2,\n",
       " frozenset({'z'}): 1,\n",
       " frozenset({'r', 's', 'x'}): 1,\n",
       " frozenset({'r', 't', 'x', 'y', 'z'}): 1}"
      ]
     },
     "execution_count": 3,
     "metadata": {},
     "output_type": "execute_result"
    }
   ],
   "source": [
    "from __future__ import annotations\n",
    "from dataclasses import dataclass, field\n",
    "from typing import TypeVar, Dict, Set, Optional, Tuple, FrozenSet\n",
    "from collections import defaultdict\n",
    "from copy import deepcopy\n",
    "from config import DATASET, PARAMS, DISPLAY\n",
    "from utils import *\n",
    "\n",
    "\n",
    "# Define some type.\n",
    "Item                        = TypeVar(int)\n",
    "ItemSet                     = TypeVar(FrozenSet[Item])\n",
    "ItemSets                    = TypeVar(List[ItemSet])\n",
    "TID                         = TypeVar(int)\n",
    "\n",
    "transactions: List[ItemSet]         = list()\n",
    "item_counter: Dict[ItemSet, int]    = dict()\n",
    "\n",
    "DISPLAY = False\n",
    "\n",
    "def format_trans(transactions: List[ItemSets]):\n",
    "    r\"\"\"Format the original transactions into **mapping of itemset to count values**.\n",
    "\n",
    "    Example\n",
    "    =======\n",
    "    >>> trans = [[1, 2, 3], [1, 2, 3], [2, 3]\n",
    "    >>> Formater(trans)\n",
    "    {\n",
    "        frozenset({1, 2, 3}): 2,\n",
    "        frozenset({2, 3}): 1\n",
    "    }\n",
    "\n",
    "    Return\n",
    "    ======\n",
    "    counter: Dict[FrozenSet, int]\n",
    "        The mapping of each itemset to it's count.\n",
    "    \"\"\"\n",
    "    result = dict()\n",
    "    for trans in transactions:\n",
    "        trans = frozenset(trans)\n",
    "        result[trans] = result.get(trans, 0) + 1\n",
    "    return result\n",
    "\n",
    "\n",
    "def count(fmt_trans: Dict[FrozenSet, int]):\n",
    "    r\"\"\"Conditional pattern base item counter.\n",
    "\n",
    "    Example\n",
    "    =======\n",
    "    >>> fmt_trans = {\n",
    "    ...     frozenset({1, 2, 3}): 2,\n",
    "    ...     frozenset({2, 3}): 1}\n",
    "    >>> Counter(trans)\n",
    "    {\n",
    "        frozenset({1}): 2,\n",
    "        frozenset({2}): 3,\n",
    "        frozenset({3}): 3\n",
    "    }\n",
    "\n",
    "    Return\n",
    "    ======\n",
    "    counter: Dict[FrozenSet, int]\n",
    "        The mapping of each itemset to it's count.\n",
    "    \"\"\"\n",
    "    counter = dict()\n",
    "    for trans, count in fmt_trans.items():\n",
    "        for item in trans:\n",
    "            counter[item] = counter.get(item, 0) + count\n",
    "    return counter\n",
    "\n",
    "\n",
    "def filter_and_order(\n",
    "    fmt_trans: Dict[FrozenSet, int],\n",
    "    counter: Dict[FrozenSet, int],\n",
    "    min_sup: Optional[float] = PARAMS.MIN_SUP):\n",
    "    r\"\"\"Filter out the itemsets which there count value less than min_sup,\n",
    "        then ordering the transaction in fmt_trans(formated transactions).\n",
    "\n",
    "    Example\n",
    "    =======\n",
    "    >>> fmt_trans = {\n",
    "    ...     frozenset({1, 2, 3}): 2,\n",
    "    ...     frozenset({2, 3}): 1\n",
    "    ... }\n",
    "    >>> counter = {\n",
    "    ...     frozenset({1}): 2,\n",
    "    ...     frozenset({2}): 3,\n",
    "    ...     frozenset({3}): 3\n",
    "    ... }\n",
    "    >>> min_sup = 2\n",
    "    >>> filter_and_order(fmt_trans, counter, min_sup)\n",
    "    {frozenset({2, 3}): 3}\n",
    "\n",
    "    Return\n",
    "    ======\n",
    "    counter: Dict[FrozenSet, int]\n",
    "        The mapping of each itemset to it's count.\n",
    "    \"\"\"\n",
    "    result = dict()\n",
    "    drop_out_itemsets: set = {k if v < min_sup else None for k, v in counter.items()}\n",
    "    print(f\"droped out itemsets: {drop_out_itemsets}\\n\")\n",
    "    for trans, count in fmt_trans.items():\n",
    "        filtered_iset = trans - drop_out_itemsets\n",
    "        result[filtered_iset] = result.get(filtered_iset, 0) + count\n",
    "    return result\n",
    "\n",
    "\n",
    "# Get data\n",
    "_, transactions, _ = get_data(DATASET)\n",
    "\n",
    "# format the transactions.\n",
    "formated = format_trans(transactions)\n",
    "\n",
    "counter = count(formated)\n",
    "\n",
    "filter_and_order(formated, counter)\n",
    "\n",
    "# transactions = [[1,2,3], [1,2,3], [2,3]]\n",
    "\n",
    "# formated = format_trans(transactions)\n",
    "# item_counter"
   ]
  },
  {
   "cell_type": "code",
   "execution_count": 4,
   "metadata": {},
   "outputs": [
    {
     "data": {
      "text/plain": [
       "True"
      ]
     },
     "execution_count": 4,
     "metadata": {},
     "output_type": "execute_result"
    }
   ],
   "source": [
    "a = {None, frozenset({1})}\n",
    "b = frozenset({1, 2, 3})\n",
    "c = frozenset({3, 2, 1})\n",
    "b == c\n",
    "# set(b) - a"
   ]
  }
 ],
 "metadata": {
  "interpreter": {
   "hash": "916dbcbb3f70747c44a77c7bcd40155683ae19c65e1c03b4aa3499c5328201f1"
  },
  "kernelspec": {
   "display_name": "Python 3.8.10 64-bit",
   "name": "python3"
  },
  "language_info": {
   "codemirror_mode": {
    "name": "ipython",
    "version": 3
   },
   "file_extension": ".py",
   "mimetype": "text/x-python",
   "name": "python",
   "nbconvert_exporter": "python",
   "pygments_lexer": "ipython3",
   "version": "3.8.10"
  },
  "orig_nbformat": 4
 },
 "nbformat": 4,
 "nbformat_minor": 2
}
