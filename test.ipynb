{
 "cells": [
  {
   "cell_type": "code",
   "execution_count": 7,
   "metadata": {},
   "outputs": [
    {
     "name": "stdout",
     "output_type": "stream",
     "text": [
      "tra:dict_values([['1', '3', '4'], ['2', '3', '5'], ['1'], ['2', '3', '5'], ['2', '5']])\n",
      "result:{frozenset({'3', '1', '4'}): 1, frozenset({'3', '2', '5'}): 2, frozenset({'1'}): 1, frozenset({'2', '5'}): 1}\n"
     ]
    },
    {
     "data": {
      "text/plain": [
       "{frozenset({'1', '3', '4'}): 1,\n",
       " frozenset({'2', '3', '5'}): 2,\n",
       " frozenset({'1'}): 1,\n",
       " frozenset({'2', '5'}): 1}"
      ]
     },
     "execution_count": 7,
     "metadata": {},
     "output_type": "execute_result"
    }
   ],
   "source": [
    "from algos import fp_growth as fpg\n",
    "import utils\n",
    "import config\n",
    "from utils import *\n",
    "from config import *\n",
    "\n",
    "_, trans = get_data(DATA.ibm_test_xs)\n",
    "list(trans)\n",
    "fpg.format_trans(trans)\n",
    "fpg.build_fp_tree()"
   ]
  }
 ],
 "metadata": {
  "interpreter": {
   "hash": "916dbcbb3f70747c44a77c7bcd40155683ae19c65e1c03b4aa3499c5328201f1"
  },
  "kernelspec": {
   "display_name": "Python 3.8.10 64-bit",
   "name": "python3"
  },
  "language_info": {
   "codemirror_mode": {
    "name": "ipython",
    "version": 3
   },
   "file_extension": ".py",
   "mimetype": "text/x-python",
   "name": "python",
   "nbconvert_exporter": "python",
   "pygments_lexer": "ipython3",
   "version": "3.8.10"
  },
  "orig_nbformat": 4
 },
 "nbformat": 4,
 "nbformat_minor": 2
}
